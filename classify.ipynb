{
 "cells": [
  {
   "cell_type": "markdown",
   "metadata": {},
   "source": [
    "# Text Classification Using Naive Bayes: New Headline Categorization\n",
    "\n",
    "In this notebook, I take in a [large dataset of labeled news headlines](https://github.com/mhjabreel/CharCnn_Keras/tree/master/data/ag_news_csv) and use natural langauge processing methods to create a classification algorithm. I explore some of the common methods for text processing from natural language processing (NLP) provided by the python library Natural Language Toolkit (NLTK)."
   ]
  },
  {
   "cell_type": "markdown",
   "metadata": {},
   "source": [
    "## Required Modules\n",
    "\n",
    "- `numpy`: for linear algebra operations\n",
    "- `pandas`: to read and transform the dataset\n",
    "- `matplotlib` helps with the creation of graphs and charts\n",
    "- `re`: provides regular expression interpreting, which I use for some basic text-processing including removing non-alphanumeric characters\n",
    "- `nltk`: NLTK provides pre-made text processing functions including tokenization, part-of-speech tagging (POS tagging), lemmatization, and stemming. Additionally, I use the list of English stop-words provided by NLTK.\n",
    "- `sklearn`: Sci-kit learn contains many machine learning utilities including a function split datasets into training and test sets, objects to help with hyperparamter tuning, text feature extraction utilities, and machine learning models"
   ]
  },
  {
   "cell_type": "code",
   "execution_count": 31,
   "metadata": {},
   "outputs": [],
   "source": [
    "import numpy as np\n",
    "import pandas as pd\n",
    "import re\n",
    "\n",
    "import matplotlib.pyplot as plt\n",
    "import seaborn as sns\n",
    "\n",
    "from nltk import word_tokenize, pos_tag\n",
    "from nltk.stem.wordnet import WordNetLemmatizer\n",
    "from nltk.stem.snowball import EnglishStemmer\n",
    "from nltk.corpus import stopwords\n",
    "\n",
    "from sklearn.model_selection import train_test_split, GridSearchCV\n",
    "from sklearn.feature_extraction.text import TfidfVectorizer\n",
    "from sklearn.naive_bayes import MultinomialNB\n",
    "from sklearn.svm import SVC\n",
    "from sklearn.metrics import confusion_matrix, accuracy_score"
   ]
  },
  {
   "cell_type": "markdown",
   "metadata": {},
   "source": [
    "The following cell downloads packages that support nltk's functions including tokenization, lemmatization, etc. (Only needs to be done once per machine, hence why it is commented out)"
   ]
  },
  {
   "cell_type": "code",
   "execution_count": 16,
   "metadata": {},
   "outputs": [],
   "source": [
    "# import nltk\n",
    "# nltk.download()"
   ]
  },
  {
   "cell_type": "markdown",
   "metadata": {},
   "source": [
    "## Reading and exploring the data\n",
    "\n",
    "This dataset stores news headlines, descriptions, and classifications in a comma-separated values (.csv) file. The author provided a training and test split already, but I chose to merge these back together so I can choose the size of the test set later on. Also, merging these datasets now means I can preprocess them together prior to splitting into training and test splits. This could also be done through using a pipeline, but I elected for the combined approach for this project."
   ]
  },
  {
   "cell_type": "code",
   "execution_count": 17,
   "metadata": {},
   "outputs": [
    {
     "name": "stderr",
     "output_type": "stream",
     "text": [
      "/tmp/ipykernel_13021/4201545040.py:5: FutureWarning: The frame.append method is deprecated and will be removed from pandas in a future version. Use pandas.concat instead.\n",
      "  df = train.append(test)\n"
     ]
    }
   ],
   "source": [
    "# https://github.com/mhjabreel/CharCnn_Keras/tree/master/data/ag_news_csv\n",
    "train = pd.read_csv(\"train.csv\", names=['class', 'title', 'description'])\n",
    "test = pd.read_csv(\"test.csv\", names=['class', 'title', 'description'])\n",
    "\n",
    "df = train.append(test)"
   ]
  },
  {
   "cell_type": "markdown",
   "metadata": {},
   "source": [
    "Viewing the first few entries of this dataset shows the general form. In this notebook, I explore how well a model performs using the title column alone, ignoring the description variable. In the future, I may revisit this to see if the model performs better when using the description as well."
   ]
  },
  {
   "cell_type": "code",
   "execution_count": 18,
   "metadata": {},
   "outputs": [
    {
     "data": {
      "text/html": [
       "<div>\n",
       "<style scoped>\n",
       "    .dataframe tbody tr th:only-of-type {\n",
       "        vertical-align: middle;\n",
       "    }\n",
       "\n",
       "    .dataframe tbody tr th {\n",
       "        vertical-align: top;\n",
       "    }\n",
       "\n",
       "    .dataframe thead th {\n",
       "        text-align: right;\n",
       "    }\n",
       "</style>\n",
       "<table border=\"1\" class=\"dataframe\">\n",
       "  <thead>\n",
       "    <tr style=\"text-align: right;\">\n",
       "      <th></th>\n",
       "      <th>class</th>\n",
       "      <th>title</th>\n",
       "      <th>description</th>\n",
       "    </tr>\n",
       "  </thead>\n",
       "  <tbody>\n",
       "    <tr>\n",
       "      <th>0</th>\n",
       "      <td>3</td>\n",
       "      <td>Wall St. Bears Claw Back Into the Black (Reuters)</td>\n",
       "      <td>Reuters - Short-sellers, Wall Street's dwindli...</td>\n",
       "    </tr>\n",
       "    <tr>\n",
       "      <th>1</th>\n",
       "      <td>3</td>\n",
       "      <td>Carlyle Looks Toward Commercial Aerospace (Reu...</td>\n",
       "      <td>Reuters - Private investment firm Carlyle Grou...</td>\n",
       "    </tr>\n",
       "    <tr>\n",
       "      <th>2</th>\n",
       "      <td>3</td>\n",
       "      <td>Oil and Economy Cloud Stocks' Outlook (Reuters)</td>\n",
       "      <td>Reuters - Soaring crude prices plus worries\\ab...</td>\n",
       "    </tr>\n",
       "    <tr>\n",
       "      <th>3</th>\n",
       "      <td>3</td>\n",
       "      <td>Iraq Halts Oil Exports from Main Southern Pipe...</td>\n",
       "      <td>Reuters - Authorities have halted oil export\\f...</td>\n",
       "    </tr>\n",
       "    <tr>\n",
       "      <th>4</th>\n",
       "      <td>3</td>\n",
       "      <td>Oil prices soar to all-time record, posing new...</td>\n",
       "      <td>AFP - Tearaway world oil prices, toppling reco...</td>\n",
       "    </tr>\n",
       "  </tbody>\n",
       "</table>\n",
       "</div>"
      ],
      "text/plain": [
       "   class                                              title  \\\n",
       "0      3  Wall St. Bears Claw Back Into the Black (Reuters)   \n",
       "1      3  Carlyle Looks Toward Commercial Aerospace (Reu...   \n",
       "2      3    Oil and Economy Cloud Stocks' Outlook (Reuters)   \n",
       "3      3  Iraq Halts Oil Exports from Main Southern Pipe...   \n",
       "4      3  Oil prices soar to all-time record, posing new...   \n",
       "\n",
       "                                         description  \n",
       "0  Reuters - Short-sellers, Wall Street's dwindli...  \n",
       "1  Reuters - Private investment firm Carlyle Grou...  \n",
       "2  Reuters - Soaring crude prices plus worries\\ab...  \n",
       "3  Reuters - Authorities have halted oil export\\f...  \n",
       "4  AFP - Tearaway world oil prices, toppling reco...  "
      ]
     },
     "execution_count": 18,
     "metadata": {},
     "output_type": "execute_result"
    }
   ],
   "source": [
    "df.head()"
   ]
  },
  {
   "cell_type": "markdown",
   "metadata": {},
   "source": [
    "Next, I create a new column with the label of each classification for ease of understanding when looking at a given record."
   ]
  },
  {
   "cell_type": "code",
   "execution_count": 19,
   "metadata": {},
   "outputs": [
    {
     "data": {
      "text/plain": [
       "Text(0, 0.5, 'Count')"
      ]
     },
     "execution_count": 19,
     "metadata": {},
     "output_type": "execute_result"
    },
    {
     "data": {
      "image/png": "[encoded data removed]",
      "text/plain": [
       "<Figure size 640x480 with 1 Axes>"
      ]
     },
     "metadata": {},
     "output_type": "display_data"
    }
   ],
   "source": [
    "labels = ['World', 'Sports', 'Business', 'Sci/Tech']\n",
    "df['label'] = df['class'].apply(lambda x : labels[x - 1])\n",
    "\n",
    "fig, ax = plt.subplots()\n",
    "df['label'].value_counts().plot(kind='bar')\n",
    "ax.set_title('Classification Frequencies')\n",
    "ax.set_xlabel('Label')\n",
    "ax.set_ylabel('Count')"
   ]
  },
  {
   "cell_type": "markdown",
   "metadata": {},
   "source": [
    "Evidently, the data source created an idealized situation where the records are uniformly distributed across classifications. Accordingly, I later use accuracy as a metric for evaluating my model, which may not be appropriate if the distribution skewed strongly towards a particular classification. At an extreme, if 90% of records were classified as \"business,\" the model could achieve 90% accuracy simply by labeling everything as \"business.\""
   ]
  },
  {
   "cell_type": "markdown",
   "metadata": {},
   "source": [
    "## Text Preprocessing\n",
    "\n",
    "Evidently, computers cannot process natural language with the ease that a human might, so the end goal of this section is to map each article title to a vector that can be passed to any variety of machine learning models.\n",
    "\n",
    "### Basic Preprocssing with Regular Expressions\n",
    "\n",
    "Regular expressions (RegEx) can solve many basic natural langauge processing tasks such as extracting or substituting text matching a given form/pattern. Here, I use it, combined with Pandas' built-in string methods, to remove special characters that don't contribute much (or any, in some cases) meaning to these headlines. I treat hyphens as a special case, choosing to split hyphenated words into their base words by replacing hyphens with spaces. I make every headline lowercase so later on during the tokenization process words words with different capitlizations are treated the same (\"Commerical\" need not be treated differently than \"commercial\" in this use case)."
   ]
  },
  {
   "cell_type": "code",
   "execution_count": 20,
   "metadata": {},
   "outputs": [],
   "source": [
    "#unidecode?\n",
    "\n",
    "df['title'] = df['title'].str.lower().apply(lambda x : re.sub('[.(),:#;&]', '', x))\n",
    "df['title'] = df['title'].apply(lambda x : x.replace('-', ' '))"
   ]
  },
  {
   "cell_type": "markdown",
   "metadata": {},
   "source": [
    "### Tokenization, Lemmatization, Stemming, and Stop Words with NLTK\n",
    "\n",
    "Now that I have \"normalized\" headlines (all lowercased, without special characters), I use nltk functions to further process these headlines. First, I tokenize each headline. Tokenization breaks a string of words (a sentence, or in this case a headline) and breaks it into distinct words and punctuation. Breaking the headlines into tokens allows other nltk functions to operate word-by-word.\n",
    "\n",
    "Next, I trim down the tokens, eliminating stop words. There is no single definition of what defines a proper set of stop words, but in general, stop words are words that do not contribute meaning to the sentence. For example, in the sentence \"An orange is a tasty fruit,\" almost all of the meaning is preserved by removing the articles \"an\" and \"a,\" leaving \"orange is tasty fruit.\" I use NLTK's provided set of English stop words.\n",
    "\n",
    "With the set of tokens that have some degree of importance to the meaning of the headline, I next use `pos_tag` to identify the part of speech of each token. NLTK's lemmatizer performs better when provided with the part of speech, so I store these for use in the next step. However, the lemmatizer doesn't use the same part of speech encodings that the POS tagger outputs. I create the `tag_map()` function to map the POS-tagger-tags to the smaller set of POS tags that the lemmatizer accepts.\n",
    "\n",
    "To further consolidate the \"vocabulary\" that my model with work with later, I use lemmatization and stemming to map words to their \"base form.\"\n",
    "\n",
    "After these processing steps, I rejoin the tokens to create a string I pass to the next stage in the process: TF-IDF vectorizing."
   ]
  },
  {
   "cell_type": "code",
   "execution_count": 21,
   "metadata": {},
   "outputs": [],
   "source": [
    "lemmatizer = WordNetLemmatizer()\n",
    "stemmer = EnglishStemmer()\n",
    "stop_words = set(stopwords.words('english'))\n",
    "\n",
    "def preprocess(string: str):\n",
    "\ttokens = word_tokenize(string)\n",
    "\n",
    "\ttokens = [token for token in tokens if token not in stop_words]\n",
    "\n",
    "\ttagged = pos_tag(tokens)\n",
    "\n",
    "\tdef tag_map(pos: str):\n",
    "\t\tif pos[0] == 'N':\n",
    "\t\t\treturn 'n'\n",
    "\t\tif pos[0] == 'V':\n",
    "\t\t\treturn 'v'\n",
    "\t\tif pos[0] == 'J':\n",
    "\t\t\treturn 'a'\n",
    "\t\tif pos[0] == 'R':\n",
    "\t\t\treturn 'r'\n",
    "\t\treturn 'n'\n",
    "\n",
    "\tfinal = []\t\n",
    "\n",
    "\tfor word, tag in tagged:\n",
    "\t\tlemmatized = lemmatizer.lemmatize(word, tag_map(tag))\n",
    "\t\tfinal.append(stemmer.stem(lemmatized))\n",
    "\t\n",
    "\treturn ''.join([f\"{word} \" for word in final])"
   ]
  },
  {
   "cell_type": "code",
   "execution_count": 22,
   "metadata": {},
   "outputs": [],
   "source": [
    "df['title'] = df['title'].apply(preprocess)"
   ]
  },
  {
   "cell_type": "markdown",
   "metadata": {},
   "source": [
    "### The Train-Test Split\n",
    "\n",
    "While more data in general can help create better models in most cases, using all available data precludes any way of determining how well the model will perform. For example, a model may perform well on data it has already seen in training, or may overfit if the training set doesn't represent the greater population. In this case, a model may achieve very high accuracy on the training data, but perform very poorly when predicting out of sample examples.\n",
    "\n",
    "As such, I split my data into a training and test sets, in hopes that using the test set to gauge model performance will help to identify overfitting. I also choose to stratify by the classification variable, making sure that the training and test splits have equal numbers of each of the classes."
   ]
  },
  {
   "cell_type": "code",
   "execution_count": 23,
   "metadata": {},
   "outputs": [],
   "source": [
    "X = df['title']\n",
    "y = df['class']\n",
    "\n",
    "X_train, X_test, y_train, y_test = train_test_split(X, y, test_size=0.33, stratify=y)"
   ]
  },
  {
   "cell_type": "markdown",
   "metadata": {},
   "source": [
    "### From Words to Numbers: TF-IDF\n",
    "\n",
    "Now I have a more consolidated set of words that hopefully convey the same or similar meaning, but this data is still not suitable to pass to a machine learning model. For this reason, I use a common method of mapping sentences/documents to vectors called Term Frequency-Inverse Document Frequency (TF-IDF). The first part, term frequency measure the frequency of words across the whole vocabulary. Using term frequency alone may lead to problems when documents differ in length, as a term may appear more often in a longer document, even if this term occurs relatively infrequently in the document consider the document's length. For this reason, term frequencies are scaled by their frequencies across the whole vocabulary so as not to misrepresent documents solely based on their length."
   ]
  },
  {
   "cell_type": "code",
   "execution_count": 25,
   "metadata": {},
   "outputs": [],
   "source": [
    "tfvect = TfidfVectorizer()\n",
    "\n",
    "X_train_tfidf = tfvect.fit_transform(X_train)\n",
    "X_test_tfidf = tfvect.transform(X_test)"
   ]
  },
  {
   "cell_type": "markdown",
   "metadata": {},
   "source": [
    "## Modeling: Naive Bayes\n",
    "\n",
    "Now that I have represented the words as vectors, I can train a machine learning model to predict classes based on headlines. I choose to use a multinomial naive bayes model for its simplicity and partly out of convention, as this type of model is commonly used for tasks like this."
   ]
  },
  {
   "cell_type": "code",
   "execution_count": 37,
   "metadata": {},
   "outputs": [
    {
     "data": {
      "text/plain": [
       "0.8587679300845446"
      ]
     },
     "execution_count": 37,
     "metadata": {},
     "output_type": "execute_result"
    }
   ],
   "source": [
    "mnb = MultinomialNB()\n",
    "\n",
    "mnb.fit(X_train_tfidf, y_train)\n",
    "\n",
    "test_preds = mnb.predict(X_test_tfidf)\n",
    "\n",
    "accuracy_score(test_preds, y_test)"
   ]
  },
  {
   "cell_type": "markdown",
   "metadata": {},
   "source": [
    "Before any tuning, this model already performs well, correctly classifying 85.9% of headlines in the test set. To see if hyperparameter tuning might yield any better results, I use `GridSearchCV` to automatically find the best parameter set by performing multiple runs with different crossvalidation sets for each set of parameters. Here, `MultinomialNB` only takes one parameter alpha, so it is less of a \"grid\" search and more of a \"line\" search."
   ]
  },
  {
   "cell_type": "code",
   "execution_count": 38,
   "metadata": {},
   "outputs": [
    {
     "name": "stdout",
     "output_type": "stream",
     "text": [
      "Fitting 5 folds for each of 100 candidates, totalling 500 fits\n",
      "{'alpha': 0.1873817422860384}\n"
     ]
    },
    {
     "data": {
      "text/plain": [
       "0.8612140210886292"
      ]
     },
     "execution_count": 38,
     "metadata": {},
     "output_type": "execute_result"
    }
   ],
   "source": [
    "params = {'alpha': np.logspace(0,-9, num=100)}\n",
    "gridsearch = GridSearchCV(estimator=mnb, param_grid=params, verbose=1, scoring='accuracy')\n",
    "gridsearch.fit(X_train_tfidf, y_train)\n",
    "print(gridsearch.best_params_)\n",
    "\n",
    "test_preds = gridsearch.predict(X_test_tfidf)\n",
    "accuracy_score(test_preds, y_test)"
   ]
  },
  {
   "cell_type": "markdown",
   "metadata": {},
   "source": [
    "### Error Analysis with a Confusion Matrix"
   ]
  },
  {
   "cell_type": "markdown",
   "metadata": {},
   "source": [
    "Tuning the alpha value results in a modest increase in model accuracy. Now, with my tuned model, I use another method of model evaluation for classification models: a confusion matrix. A confusion matrix visualizes the frequency of correct and incorrect classifications."
   ]
  },
  {
   "cell_type": "code",
   "execution_count": 33,
   "metadata": {},
   "outputs": [],
   "source": [
    "cm = confusion_matrix(test_preds, y_test)"
   ]
  },
  {
   "cell_type": "code",
   "execution_count": 40,
   "metadata": {},
   "outputs": [
    {
     "data": {
      "image/png": "[encoded data removed]",
      "text/plain": [
       "<Figure size 640x480 with 2 Axes>"
      ]
     },
     "metadata": {},
     "output_type": "display_data"
    }
   ],
   "source": [
    "fig, ax = plt.subplots()\n",
    "sns.heatmap(cm, annot=True)\n",
    "ax.set_title('Confusion Matrix')\n",
    "ax.set_xlabel('Prediction')\n",
    "ax.set_ylabel('Truth')\n",
    "plt.show()"
   ]
  },
  {
   "cell_type": "markdown",
   "metadata": {},
   "source": [
    "As shown by the lightly colored main diagonal, this model correctly predicts in the vast majority of cases. However, this visualization gives insight into areas to explore in the future. Namely, the most common misclassifications are category 2 being categorized as category 3 and vice versa. This suggests that more feature engineering might be in order to determine ways to make sure the model might better distinguish these two classifications. This misclassification makes some sense as there likely is significant crossover between science/technology news and business news, but more analysis could lead to other features to include."
   ]
  },
  {
   "cell_type": "markdown",
   "metadata": {},
   "source": [
    "## Next Steps\n",
    "\n",
    "- Carry out the error analysis mentioned in the last paragraph and conduct further feature engineering, especially to better distinguish category 2 from category 3. \n",
    "- Use other modeling techniques: SVM, KNN, Tree ensembles, Neural networks\n",
    "- Try out using SpaCY instead of NLTK"
   ]
  },
  {
   "cell_type": "markdown",
   "metadata": {},
   "source": [
    "I started experienting using SVM and achieved slightly better performance prior to hyperparameter tuning. However, this model takes much longer to train, so I have not gone through a complete hyperparameter tuning process."
   ]
  },
  {
   "cell_type": "code",
   "execution_count": null,
   "metadata": {},
   "outputs": [
    {
     "data": {
      "text/plain": [
       "0.8762121212121212"
      ]
     },
     "execution_count": 21,
     "metadata": {},
     "output_type": "execute_result"
    }
   ],
   "source": [
    "# svm = SVC()\n",
    "# svm.fit(X_train_tfidf, y_train)\n",
    "\n",
    "# test_preds_svm = svm.predict(X_test_tfidf)\n",
    "\n",
    "# np.sum(test_preds_svm == y_test) / len(y_test)"
   ]
  },
  {
   "cell_type": "code",
   "execution_count": null,
   "metadata": {},
   "outputs": [
    {
     "name": "stdout",
     "output_type": "stream",
     "text": [
      "Fitting 5 folds for each of 3 candidates, totalling 15 fits\n",
      "[CV] END ........................................kernel=poly; total time=19.6min\n",
      "[CV] END ........................................kernel=poly; total time=19.5min\n",
      "[CV] END ........................................kernel=poly; total time=19.7min\n"
     ]
    }
   ],
   "source": [
    "# params_svm = {'kernel': ['poly', 'rbf', 'sigmoid']}\n",
    "\n",
    "# gridsearch_svm = GridSearchCV(estimator=SVC(), param_grid=params_svm, verbose=2, scoring='accuracy')\n",
    "\n",
    "\n",
    "# gridsearch_svm.fit(X_train_tfidf, y_train)\n",
    "\n",
    "# print(gridsearch.best_params_)\n",
    "# print(gridsearch.best_score_)"
   ]
  }
 ],
 "metadata": {
  "kernelspec": {
   "display_name": "base",
   "language": "python",
   "name": "python3"
  },
  "language_info": {
   "codemirror_mode": {
    "name": "ipython",
    "version": 3
   },
   "file_extension": ".py",
   "mimetype": "text/x-python",
   "name": "python",
   "nbconvert_exporter": "python",
   "pygments_lexer": "ipython3",
   "version": "3.10.12"
  },
  "orig_nbformat": 4
 },
 "nbformat": 4,
 "nbformat_minor": 2
}
